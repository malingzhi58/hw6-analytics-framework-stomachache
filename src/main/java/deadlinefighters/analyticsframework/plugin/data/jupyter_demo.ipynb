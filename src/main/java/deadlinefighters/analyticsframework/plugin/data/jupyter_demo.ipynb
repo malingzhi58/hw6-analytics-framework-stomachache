{
 "cells": [
  {
   "cell_type": "code",
   "execution_count": 35,
   "metadata": {},
   "outputs": [
    {
     "name": "stdout",
     "output_type": "stream",
     "text": [
      "{'zip': '94043', 'sector': 'Communication Services', 'fullTimeEmployees': 150028, 'longBusinessSummary': 'Alphabet Inc. provides online advertising services in the United States, Europe, the Middle East, Africa, the Asia-Pacific, Canada, and Latin America. The company offers performance and brand advertising services. It operates through Google Services, Google Cloud, and Other Bets segments. The Google Services segment provides products and services, such as ads, Android, Chrome, hardware, Google Maps, Google Play, Search, and YouTube, as well as technical infrastructure; and digital content. The Google Cloud segment offers infrastructure and data analytics platforms, collaboration tools, and other services for enterprise customers. The Other Bets segment sells internet and TV services, as well as licensing and research and development services. The company was founded in 1998 and is headquartered in Mountain View, California.', 'city': 'Mountain View', 'phone': '650-253-0000', 'state': 'CA', 'country': 'United States', 'companyOfficers': [], 'website': 'http://www.abc.xyz', 'maxAge': 1, 'address1': '1600 Amphitheatre Parkway', 'industry': 'Internet Content & Information', 'ebitdaMargins': 0.35616, 'profitMargins': 0.29521, 'grossMargins': 0.56511, 'operatingCashflow': 89395003392, 'revenueGrowth': 0.41, 'operatingMargins': 0.303, 'ebitda': 85196996608, 'targetLowPrice': 3140, 'recommendationKey': 'buy', 'grossProfits': 97795000000, 'freeCashflow': 52658749440, 'targetMedianPrice': 3190, 'currentPrice': 2875.53, 'earningsGrowth': 0.707, 'currentRatio': 2.98, 'returnOnAssets': 0.14011, 'numberOfAnalystOpinions': 9, 'targetMeanPrice': 3285, 'debtToEquity': 11.493, 'returnOnEquity': 0.30872, 'targetHighPrice': 3500, 'totalCash': 142002995200, 'totalDebt': 28109000704, 'totalRevenue': 239210004480, 'totalCashPerShare': 213.936, 'financialCurrency': 'USD', 'revenuePerShare': 356.562, 'quickRatio': 2.862, 'recommendationMean': 1.6, 'exchange': 'NMS', 'shortName': 'Alphabet Inc.', 'longName': 'Alphabet Inc.', 'exchangeTimezoneName': 'America/New_York', 'exchangeTimezoneShortName': 'EST', 'isEsgPopulated': False, 'gmtOffSetMilliseconds': '-18000000', 'quoteType': 'EQUITY', 'symbol': 'GOOG', 'messageBoardId': 'finmb_29096', 'market': 'us_market', 'annualHoldingsTurnover': None, 'enterpriseToRevenue': 7.383, 'beta3Year': None, 'enterpriseToEbitda': 20.73, '52WeekChange': 0.54943955, 'morningStarRiskRating': None, 'forwardEps': 112.29, 'revenueQuarterlyGrowth': None, 'sharesOutstanding': 317737984, 'fundInceptionDate': None, 'annualReportExpenseRatio': None, 'totalAssets': None, 'bookValue': 367.946, 'sharesShort': 2042544, 'sharesPercentSharesOut': 0.0031, 'fundFamily': None, 'lastFiscalYearEnd': 1609372800, 'heldPercentInstitutions': 0.66276, 'netIncomeToCommon': 70617997312, 'trailingEps': 103.805, 'lastDividendValue': None, 'SandP52WeekChange': 0.22003067, 'priceToBook': 7.815087, 'heldPercentInsiders': 0.00034000003, 'nextFiscalYearEnd': 1672444800, 'yield': None, 'mostRecentQuarter': 1632960000, 'shortRatio': 1.8, 'sharesShortPreviousMonthDate': 1634256000, 'floatShares': 578297742, 'beta': 1.043636, 'enterpriseValue': 1766124552192, 'priceHint': 2, 'threeYearAverageReturn': None, 'lastSplitDate': 1430092800, 'lastSplitFactor': '10027455:10000000', 'legalType': None, 'lastDividendDate': None, 'morningStarOverallRating': None, 'earningsQuarterlyGrowth': 0.684, 'priceToSalesTrailing12Months': 7.962433, 'dateShortInterest': 1636934400, 'pegRatio': 1.24, 'ytdReturn': None, 'forwardPE': 25.608068, 'lastCapGain': None, 'shortPercentOfFloat': None, 'sharesShortPriorMonth': 1880873, 'impliedSharesOutstanding': 663763968, 'category': None, 'fiveYearAverageReturn': None, 'previousClose': 2832.36, 'regularMarketOpen': 2836.48, 'twoHundredDayAverage': 2561.3975, 'trailingAnnualDividendYield': None, 'payoutRatio': 0, 'volume24Hr': None, 'regularMarketDayHigh': 2893.5, 'navPrice': None, 'averageDailyVolume10Day': 1171230, 'regularMarketPreviousClose': 2832.36, 'fiftyDayAverage': 2863.1973, 'trailingAnnualDividendRate': None, 'open': 2836.48, 'toCurrency': None, 'averageVolume10days': 1171230, 'expireDate': None, 'algorithm': None, 'dividendRate': None, 'exDividendDate': None, 'circulatingSupply': None, 'startDate': None, 'regularMarketDayLow': 2819.69, 'currency': 'USD', 'trailingPE': 27.701267, 'regularMarketVolume': 1062535, 'lastMarket': None, 'maxSupply': None, 'openInterest': None, 'marketCap': 1904693608448, 'volumeAllCurrencies': None, 'strikePrice': None, 'averageVolume': 1161145, 'dayLow': 2819.69, 'ask': 0, 'askSize': 1000, 'volume': 1062535, 'fiftyTwoWeekHigh': 3037, 'fromCurrency': None, 'fiveYearAvgDividendYield': None, 'fiftyTwoWeekLow': 1699, 'bid': 0, 'tradeable': False, 'dividendYield': None, 'bidSize': 800, 'dayHigh': 2893.5, 'regularMarketPrice': 2875.53, 'preMarketPrice': None, 'logo_url': 'https://logo.clearbit.com/abc.xyz'}\n"
     ]
    }
   ],
   "source": [
    "import yfinance as yf\n",
    "goo = yf.Ticker(\"GOOG\")\n",
    "print(goo.info)\n"
   ]
  },
  {
   "cell_type": "code",
   "execution_count": 1,
   "metadata": {},
   "outputs": [],
   "source": [
    "import yfinance as yf\n",
    "msft = yf.Ticker(\"MSFT\")\n"
   ]
  },
  {
   "cell_type": "code",
   "execution_count": 2,
   "metadata": {},
   "outputs": [
    {
     "name": "stdout",
     "output_type": "stream",
     "text": [
      "{'zip': '98052-6399', 'sector': 'Technology', 'fullTimeEmployees': 181000, 'longBusinessSummary': 'Microsoft Corporation develops, licenses, and supports software, services, devices, and solutions worldwide. Its Productivity and Business Processes segment offers Office, Exchange, SharePoint, Microsoft Teams, Office 365 Security and Compliance, and Skype for Business, as well as related Client Access Licenses (CAL); Skype, Outlook.com, OneDrive, and LinkedIn; and Dynamics 365, a set of cloud-based and on-premises business solutions for organizations and enterprise divisions. Its Intelligent Cloud segment licenses SQL, Windows Servers, Visual Studio, System Center, and related CALs; GitHub that provides a collaboration platform and code hosting service for developers; and Azure, a cloud platform. It also offers support services and Microsoft consulting services to assist customers in developing, deploying, and managing Microsoft server and desktop solutions; and training and certification on Microsoft products. Its More Personal Computing segment provides Windows original equipment manufacturer (OEM) licensing and other non-volume licensing of the Windows operating system; Windows Commercial, such as volume licensing of the Windows operating system, Windows cloud services, and other Windows commercial offerings; patent licensing; Windows Internet of Things; and MSN advertising. It also offers Surface, PC accessories, PCs, tablets, gaming and entertainment consoles, and other devices; Gaming, including Xbox hardware, and Xbox content and services; video games and third-party video game royalties; and Search, including Bing and Microsoft advertising. It sells its products through OEMs, distributors, and resellers; and directly through digital marketplaces, online stores, and retail stores. It has collaborations with Dynatrace, Inc., Morgan Stanley, Micro Focus, WPP plc, ACI Worldwide, Inc., and iCIMS, Inc., as well as strategic relationships with Avaya Holdings Corp. and wejo Limited. Microsoft Corporation was founded in 1975 and is based in Redmond, Washington.', 'city': 'Redmond', 'phone': '425 882 8080', 'state': 'WA', 'country': 'United States', 'companyOfficers': [], 'website': 'http://www.microsoft.com', 'maxAge': 1, 'address1': 'One Microsoft Way', 'industry': 'Software—Infrastructure', 'ebitdaMargins': 0.48648998, 'profitMargins': 0.38515, 'grossMargins': 0.68864995, 'operatingCashflow': 81945001984, 'revenueGrowth': 0.22, 'operatingMargins': 0.42143002, 'ebitda': 85745000448, 'targetLowPrice': 299.93, 'recommendationKey': 'buy', 'grossProfits': 115856000000, 'freeCashflow': 49819750400, 'targetMedianPrice': 364, 'currentPrice': 329.49, 'earningsGrowth': 0.489, 'currentRatio': 2.165, 'returnOnAssets': 0.14589, 'numberOfAnalystOpinions': 39, 'targetMeanPrice': 363.88, 'debtToEquity': 51.938, 'returnOnEquity': 0.49303, 'targetHighPrice': 410, 'totalCash': 130584002560, 'totalDebt': 78934999040, 'totalRevenue': 176250994688, 'totalCashPerShare': 17.393, 'financialCurrency': 'USD', 'revenuePerShare': 23.395, 'quickRatio': 1.961, 'recommendationMean': 1.7, 'exchange': 'NMS', 'shortName': 'Microsoft Corporation', 'longName': 'Microsoft Corporation', 'exchangeTimezoneName': 'America/New_York', 'exchangeTimezoneShortName': 'EST', 'isEsgPopulated': False, 'gmtOffSetMilliseconds': '-18000000', 'quoteType': 'EQUITY', 'symbol': 'MSFT', 'messageBoardId': 'finmb_21835', 'market': 'us_market', 'annualHoldingsTurnover': None, 'enterpriseToRevenue': 13.768, 'beta3Year': None, 'enterpriseToEbitda': 28.3, '52WeekChange': 0.5398395, 'morningStarRiskRating': None, 'forwardEps': 10.53, 'revenueQuarterlyGrowth': None, 'sharesOutstanding': 7507979776, 'fundInceptionDate': None, 'annualReportExpenseRatio': None, 'totalAssets': None, 'bookValue': 20.242, 'sharesShort': 41195079, 'sharesPercentSharesOut': 0.0055, 'fundFamily': None, 'lastFiscalYearEnd': 1625011200, 'heldPercentInstitutions': 0.71779996, 'netIncomeToCommon': 67882999808, 'trailingEps': 8.939, 'lastDividendValue': 0.62, 'SandP52WeekChange': 0.22003067, 'priceToBook': 16.27754, 'heldPercentInsiders': 0.00067000004, 'nextFiscalYearEnd': 1688083200, 'yield': None, 'mostRecentQuarter': 1632960000, 'shortRatio': 1.73, 'sharesShortPreviousMonthDate': 1634256000, 'floatShares': 7500172144, 'beta': 0.862337, 'enterpriseValue': 2426585219072, 'priceHint': 2, 'threeYearAverageReturn': None, 'lastSplitDate': 1045526400, 'lastSplitFactor': '2:1', 'legalType': None, 'lastDividendDate': 1637107200, 'morningStarOverallRating': None, 'earningsQuarterlyGrowth': 0.476, 'priceToSalesTrailing12Months': 14.057376, 'dateShortInterest': 1636934400, 'pegRatio': 2.17, 'ytdReturn': None, 'forwardPE': 31.290598, 'lastCapGain': None, 'shortPercentOfFloat': 0.0055, 'sharesShortPriorMonth': 48556022, 'impliedSharesOutstanding': None, 'category': None, 'fiveYearAverageReturn': None, 'previousClose': 330.08, 'regularMarketOpen': 330.3, 'twoHundredDayAverage': 277.0752, 'trailingAnnualDividendYield': 0.006968008, 'payoutRatio': 0.25059998, 'volume24Hr': None, 'regularMarketDayHigh': 333.47, 'navPrice': None, 'averageDailyVolume10Day': 27560420, 'regularMarketPreviousClose': 330.08, 'fiftyDayAverage': 315.9772, 'trailingAnnualDividendRate': 2.3, 'open': 330.3, 'toCurrency': None, 'averageVolume10days': 27560420, 'expireDate': None, 'algorithm': None, 'dividendRate': 2.48, 'exDividendDate': 1637107200, 'circulatingSupply': None, 'startDate': None, 'regularMarketDayLow': 327.82, 'currency': 'USD', 'trailingPE': 36.859825, 'regularMarketVolume': 30765980, 'lastMarket': None, 'maxSupply': None, 'openInterest': None, 'marketCap': 2477626490880, 'volumeAllCurrencies': None, 'strikePrice': None, 'averageVolume': 24796008, 'dayLow': 327.82, 'ask': 328.93, 'askSize': 800, 'volume': 30765980, 'fiftyTwoWeekHigh': 349.67, 'fromCurrency': None, 'fiveYearAvgDividendYield': 1.42, 'fiftyTwoWeekLow': 209.11, 'bid': 328.35, 'tradeable': False, 'dividendYield': 0.0075, 'bidSize': 900, 'dayHigh': 333.47, 'regularMarketPrice': 329.49, 'preMarketPrice': 330.11, 'logo_url': 'https://logo.clearbit.com/microsoft.com'}\n"
     ]
    }
   ],
   "source": [
    "print(msft.info)"
   ]
  },
  {
   "cell_type": "code",
   "execution_count": 5,
   "metadata": {},
   "outputs": [
    {
     "data": {
      "text/plain": [
       "327.82"
      ]
     },
     "execution_count": 5,
     "metadata": {},
     "output_type": "execute_result"
    }
   ],
   "source": [
    "msft.info['dayLow']"
   ]
  },
  {
   "cell_type": "code",
   "execution_count": 6,
   "metadata": {},
   "outputs": [
    {
     "data": {
      "text/plain": [
       "333.47"
      ]
     },
     "execution_count": 6,
     "metadata": {},
     "output_type": "execute_result"
    }
   ],
   "source": [
    "msft.info['dayHigh']"
   ]
  },
  {
   "cell_type": "code",
   "execution_count": 7,
   "metadata": {},
   "outputs": [
    {
     "data": {
      "text/plain": [
       "330.3"
      ]
     },
     "execution_count": 7,
     "metadata": {},
     "output_type": "execute_result"
    }
   ],
   "source": [
    "msft.info['open']"
   ]
  },
  {
   "cell_type": "code",
   "execution_count": 8,
   "metadata": {},
   "outputs": [
    {
     "ename": "KeyError",
     "evalue": "'close'",
     "output_type": "error",
     "traceback": [
      "\u001b[1;31m---------------------------------------------------------------------------\u001b[0m",
      "\u001b[1;31mKeyError\u001b[0m                                  Traceback (most recent call last)",
      "\u001b[1;32m<ipython-input-8-68ef46c89aa8>\u001b[0m in \u001b[0;36m<module>\u001b[1;34m\u001b[0m\n\u001b[1;32m----> 1\u001b[1;33m \u001b[0mmsft\u001b[0m\u001b[1;33m.\u001b[0m\u001b[0minfo\u001b[0m\u001b[1;33m[\u001b[0m\u001b[1;34m'close'\u001b[0m\u001b[1;33m]\u001b[0m\u001b[1;33m\u001b[0m\u001b[1;33m\u001b[0m\u001b[0m\n\u001b[0m",
      "\u001b[1;31mKeyError\u001b[0m: 'close'"
     ]
    }
   ],
   "source": [
    "msft.info['close']"
   ]
  },
  {
   "cell_type": "code",
   "execution_count": 11,
   "metadata": {},
   "outputs": [
    {
     "data": {
      "text/html": [
       "<div>\n",
       "<style scoped>\n",
       "    .dataframe tbody tr th:only-of-type {\n",
       "        vertical-align: middle;\n",
       "    }\n",
       "\n",
       "    .dataframe tbody tr th {\n",
       "        vertical-align: top;\n",
       "    }\n",
       "\n",
       "    .dataframe thead th {\n",
       "        text-align: right;\n",
       "    }\n",
       "</style>\n",
       "<table border=\"1\" class=\"dataframe\">\n",
       "  <thead>\n",
       "    <tr style=\"text-align: right;\">\n",
       "      <th></th>\n",
       "      <th>Open</th>\n",
       "      <th>High</th>\n",
       "      <th>Low</th>\n",
       "      <th>Close</th>\n",
       "      <th>Volume</th>\n",
       "      <th>Dividends</th>\n",
       "      <th>Stock Splits</th>\n",
       "    </tr>\n",
       "    <tr>\n",
       "      <th>Date</th>\n",
       "      <th></th>\n",
       "      <th></th>\n",
       "      <th></th>\n",
       "      <th></th>\n",
       "      <th></th>\n",
       "      <th></th>\n",
       "      <th></th>\n",
       "    </tr>\n",
       "  </thead>\n",
       "  <tbody>\n",
       "    <tr>\n",
       "      <th>2020-06-02</th>\n",
       "      <td>79.415740</td>\n",
       "      <td>80.081768</td>\n",
       "      <td>78.965117</td>\n",
       "      <td>80.057007</td>\n",
       "      <td>87642800</td>\n",
       "      <td>0.0</td>\n",
       "      <td>0.0</td>\n",
       "    </tr>\n",
       "    <tr>\n",
       "      <th>2020-06-03</th>\n",
       "      <td>80.383828</td>\n",
       "      <td>80.765124</td>\n",
       "      <td>79.799502</td>\n",
       "      <td>80.497719</td>\n",
       "      <td>104491200</td>\n",
       "      <td>0.0</td>\n",
       "      <td>0.0</td>\n",
       "    </tr>\n",
       "    <tr>\n",
       "      <th>2020-06-04</th>\n",
       "      <td>80.316987</td>\n",
       "      <td>80.621523</td>\n",
       "      <td>79.423170</td>\n",
       "      <td>79.804466</td>\n",
       "      <td>87560400</td>\n",
       "      <td>0.0</td>\n",
       "      <td>0.0</td>\n",
       "    </tr>\n",
       "    <tr>\n",
       "      <th>2020-06-05</th>\n",
       "      <td>80.059496</td>\n",
       "      <td>82.139283</td>\n",
       "      <td>80.029786</td>\n",
       "      <td>82.077385</td>\n",
       "      <td>137250400</td>\n",
       "      <td>0.0</td>\n",
       "      <td>0.0</td>\n",
       "    </tr>\n",
       "    <tr>\n",
       "      <th>2020-06-08</th>\n",
       "      <td>81.767878</td>\n",
       "      <td>82.597319</td>\n",
       "      <td>81.042430</td>\n",
       "      <td>82.562653</td>\n",
       "      <td>95654400</td>\n",
       "      <td>0.0</td>\n",
       "      <td>0.0</td>\n",
       "    </tr>\n",
       "    <tr>\n",
       "      <th>...</th>\n",
       "      <td>...</td>\n",
       "      <td>...</td>\n",
       "      <td>...</td>\n",
       "      <td>...</td>\n",
       "      <td>...</td>\n",
       "      <td>...</td>\n",
       "      <td>...</td>\n",
       "    </tr>\n",
       "    <tr>\n",
       "      <th>2021-05-28</th>\n",
       "      <td>125.199422</td>\n",
       "      <td>125.428747</td>\n",
       "      <td>124.182436</td>\n",
       "      <td>124.242256</td>\n",
       "      <td>71311100</td>\n",
       "      <td>0.0</td>\n",
       "      <td>0.0</td>\n",
       "    </tr>\n",
       "    <tr>\n",
       "      <th>2021-06-01</th>\n",
       "      <td>124.710865</td>\n",
       "      <td>124.980065</td>\n",
       "      <td>123.574230</td>\n",
       "      <td>123.913223</td>\n",
       "      <td>67637100</td>\n",
       "      <td>0.0</td>\n",
       "      <td>0.0</td>\n",
       "    </tr>\n",
       "    <tr>\n",
       "      <th>2021-06-02</th>\n",
       "      <td>123.913221</td>\n",
       "      <td>124.870387</td>\n",
       "      <td>123.683904</td>\n",
       "      <td>124.690918</td>\n",
       "      <td>59278900</td>\n",
       "      <td>0.0</td>\n",
       "      <td>0.0</td>\n",
       "    </tr>\n",
       "    <tr>\n",
       "      <th>2021-06-03</th>\n",
       "      <td>124.312050</td>\n",
       "      <td>124.481547</td>\n",
       "      <td>122.766621</td>\n",
       "      <td>123.175415</td>\n",
       "      <td>76229200</td>\n",
       "      <td>0.0</td>\n",
       "      <td>0.0</td>\n",
       "    </tr>\n",
       "    <tr>\n",
       "      <th>2021-06-04</th>\n",
       "      <td>123.703850</td>\n",
       "      <td>125.787686</td>\n",
       "      <td>123.484498</td>\n",
       "      <td>125.518478</td>\n",
       "      <td>75169300</td>\n",
       "      <td>0.0</td>\n",
       "      <td>0.0</td>\n",
       "    </tr>\n",
       "  </tbody>\n",
       "</table>\n",
       "<p>255 rows × 7 columns</p>\n",
       "</div>"
      ],
      "text/plain": [
       "                  Open        High         Low       Close     Volume  \\\n",
       "Date                                                                    \n",
       "2020-06-02   79.415740   80.081768   78.965117   80.057007   87642800   \n",
       "2020-06-03   80.383828   80.765124   79.799502   80.497719  104491200   \n",
       "2020-06-04   80.316987   80.621523   79.423170   79.804466   87560400   \n",
       "2020-06-05   80.059496   82.139283   80.029786   82.077385  137250400   \n",
       "2020-06-08   81.767878   82.597319   81.042430   82.562653   95654400   \n",
       "...                ...         ...         ...         ...        ...   \n",
       "2021-05-28  125.199422  125.428747  124.182436  124.242256   71311100   \n",
       "2021-06-01  124.710865  124.980065  123.574230  123.913223   67637100   \n",
       "2021-06-02  123.913221  124.870387  123.683904  124.690918   59278900   \n",
       "2021-06-03  124.312050  124.481547  122.766621  123.175415   76229200   \n",
       "2021-06-04  123.703850  125.787686  123.484498  125.518478   75169300   \n",
       "\n",
       "            Dividends  Stock Splits  \n",
       "Date                                 \n",
       "2020-06-02        0.0           0.0  \n",
       "2020-06-03        0.0           0.0  \n",
       "2020-06-04        0.0           0.0  \n",
       "2020-06-05        0.0           0.0  \n",
       "2020-06-08        0.0           0.0  \n",
       "...               ...           ...  \n",
       "2021-05-28        0.0           0.0  \n",
       "2021-06-01        0.0           0.0  \n",
       "2021-06-02        0.0           0.0  \n",
       "2021-06-03        0.0           0.0  \n",
       "2021-06-04        0.0           0.0  \n",
       "\n",
       "[255 rows x 7 columns]"
      ]
     },
     "execution_count": 11,
     "metadata": {},
     "output_type": "execute_result"
    }
   ],
   "source": [
    "aapl= yf.Ticker(\"aapl\")\n",
    "aapl\n",
    "aapl_historical = aapl.history(start=\"2020-06-02\", end=\"2021-06-07\", interval=\"1d\")\n",
    "aapl_historical"
   ]
  },
  {
   "cell_type": "code",
   "execution_count": 12,
   "metadata": {},
   "outputs": [
    {
     "data": {
      "text/plain": [
       "Index(['Open', 'High', 'Low', 'Close', 'Volume', 'Dividends', 'Stock Splits'], dtype='object')"
      ]
     },
     "execution_count": 12,
     "metadata": {},
     "output_type": "execute_result"
    }
   ],
   "source": [
    "aapl_historical.columns"
   ]
  },
  {
   "cell_type": "code",
   "execution_count": 17,
   "metadata": {
    "scrolled": true
   },
   "outputs": [
    {
     "data": {
      "text/html": [
       "<div>\n",
       "<style scoped>\n",
       "    .dataframe tbody tr th:only-of-type {\n",
       "        vertical-align: middle;\n",
       "    }\n",
       "\n",
       "    .dataframe tbody tr th {\n",
       "        vertical-align: top;\n",
       "    }\n",
       "\n",
       "    .dataframe thead th {\n",
       "        text-align: right;\n",
       "    }\n",
       "</style>\n",
       "<table border=\"1\" class=\"dataframe\">\n",
       "  <thead>\n",
       "    <tr style=\"text-align: right;\">\n",
       "      <th></th>\n",
       "      <th>Open</th>\n",
       "      <th>High</th>\n",
       "      <th>Low</th>\n",
       "      <th>Close</th>\n",
       "    </tr>\n",
       "    <tr>\n",
       "      <th>Date</th>\n",
       "      <th></th>\n",
       "      <th></th>\n",
       "      <th></th>\n",
       "      <th></th>\n",
       "    </tr>\n",
       "  </thead>\n",
       "  <tbody>\n",
       "    <tr>\n",
       "      <th>2020-06-02</th>\n",
       "      <td>79.415740</td>\n",
       "      <td>80.081768</td>\n",
       "      <td>78.965117</td>\n",
       "      <td>80.057007</td>\n",
       "    </tr>\n",
       "    <tr>\n",
       "      <th>2020-06-03</th>\n",
       "      <td>80.383828</td>\n",
       "      <td>80.765124</td>\n",
       "      <td>79.799502</td>\n",
       "      <td>80.497719</td>\n",
       "    </tr>\n",
       "    <tr>\n",
       "      <th>2020-06-04</th>\n",
       "      <td>80.316987</td>\n",
       "      <td>80.621523</td>\n",
       "      <td>79.423170</td>\n",
       "      <td>79.804466</td>\n",
       "    </tr>\n",
       "    <tr>\n",
       "      <th>2020-06-05</th>\n",
       "      <td>80.059496</td>\n",
       "      <td>82.139283</td>\n",
       "      <td>80.029786</td>\n",
       "      <td>82.077385</td>\n",
       "    </tr>\n",
       "    <tr>\n",
       "      <th>2020-06-08</th>\n",
       "      <td>81.767878</td>\n",
       "      <td>82.597319</td>\n",
       "      <td>81.042430</td>\n",
       "      <td>82.562653</td>\n",
       "    </tr>\n",
       "    <tr>\n",
       "      <th>...</th>\n",
       "      <td>...</td>\n",
       "      <td>...</td>\n",
       "      <td>...</td>\n",
       "      <td>...</td>\n",
       "    </tr>\n",
       "    <tr>\n",
       "      <th>2021-05-28</th>\n",
       "      <td>125.199422</td>\n",
       "      <td>125.428747</td>\n",
       "      <td>124.182436</td>\n",
       "      <td>124.242256</td>\n",
       "    </tr>\n",
       "    <tr>\n",
       "      <th>2021-06-01</th>\n",
       "      <td>124.710865</td>\n",
       "      <td>124.980065</td>\n",
       "      <td>123.574230</td>\n",
       "      <td>123.913223</td>\n",
       "    </tr>\n",
       "    <tr>\n",
       "      <th>2021-06-02</th>\n",
       "      <td>123.913221</td>\n",
       "      <td>124.870387</td>\n",
       "      <td>123.683904</td>\n",
       "      <td>124.690918</td>\n",
       "    </tr>\n",
       "    <tr>\n",
       "      <th>2021-06-03</th>\n",
       "      <td>124.312050</td>\n",
       "      <td>124.481547</td>\n",
       "      <td>122.766621</td>\n",
       "      <td>123.175415</td>\n",
       "    </tr>\n",
       "    <tr>\n",
       "      <th>2021-06-04</th>\n",
       "      <td>123.703850</td>\n",
       "      <td>125.787686</td>\n",
       "      <td>123.484498</td>\n",
       "      <td>125.518478</td>\n",
       "    </tr>\n",
       "  </tbody>\n",
       "</table>\n",
       "<p>255 rows × 4 columns</p>\n",
       "</div>"
      ],
      "text/plain": [
       "                  Open        High         Low       Close\n",
       "Date                                                      \n",
       "2020-06-02   79.415740   80.081768   78.965117   80.057007\n",
       "2020-06-03   80.383828   80.765124   79.799502   80.497719\n",
       "2020-06-04   80.316987   80.621523   79.423170   79.804466\n",
       "2020-06-05   80.059496   82.139283   80.029786   82.077385\n",
       "2020-06-08   81.767878   82.597319   81.042430   82.562653\n",
       "...                ...         ...         ...         ...\n",
       "2021-05-28  125.199422  125.428747  124.182436  124.242256\n",
       "2021-06-01  124.710865  124.980065  123.574230  123.913223\n",
       "2021-06-02  123.913221  124.870387  123.683904  124.690918\n",
       "2021-06-03  124.312050  124.481547  122.766621  123.175415\n",
       "2021-06-04  123.703850  125.787686  123.484498  125.518478\n",
       "\n",
       "[255 rows x 4 columns]"
      ]
     },
     "execution_count": 17,
     "metadata": {},
     "output_type": "execute_result"
    }
   ],
   "source": []
  },
  {
   "cell_type": "code",
   "execution_count": 21,
   "metadata": {},
   "outputs": [
    {
     "data": {
      "text/plain": [
       "255"
      ]
     },
     "execution_count": 21,
     "metadata": {},
     "output_type": "execute_result"
    }
   ],
   "source": [
    "len(newdf)"
   ]
  },
  {
   "cell_type": "code",
   "execution_count": 26,
   "metadata": {},
   "outputs": [],
   "source": [
    "# newdf['symbol']=[ \"aapl\" for i in range(len(newdf))]\n",
    "aapl_historical.loc[:,'symbol']= \"aapl\""
   ]
  },
  {
   "cell_type": "code",
   "execution_count": 32,
   "metadata": {},
   "outputs": [
    {
     "data": {
      "text/html": [
       "<div>\n",
       "<style scoped>\n",
       "    .dataframe tbody tr th:only-of-type {\n",
       "        vertical-align: middle;\n",
       "    }\n",
       "\n",
       "    .dataframe tbody tr th {\n",
       "        vertical-align: top;\n",
       "    }\n",
       "\n",
       "    .dataframe thead th {\n",
       "        text-align: right;\n",
       "    }\n",
       "</style>\n",
       "<table border=\"1\" class=\"dataframe\">\n",
       "  <thead>\n",
       "    <tr style=\"text-align: right;\">\n",
       "      <th></th>\n",
       "      <th>symbol</th>\n",
       "      <th>Open</th>\n",
       "      <th>Close</th>\n",
       "      <th>High</th>\n",
       "      <th>Low</th>\n",
       "    </tr>\n",
       "    <tr>\n",
       "      <th>Date</th>\n",
       "      <th></th>\n",
       "      <th></th>\n",
       "      <th></th>\n",
       "      <th></th>\n",
       "      <th></th>\n",
       "    </tr>\n",
       "  </thead>\n",
       "  <tbody>\n",
       "    <tr>\n",
       "      <th>2020-06-02</th>\n",
       "      <td>aapl</td>\n",
       "      <td>79.415740</td>\n",
       "      <td>80.057007</td>\n",
       "      <td>80.081768</td>\n",
       "      <td>78.965117</td>\n",
       "    </tr>\n",
       "    <tr>\n",
       "      <th>2020-06-03</th>\n",
       "      <td>aapl</td>\n",
       "      <td>80.383828</td>\n",
       "      <td>80.497719</td>\n",
       "      <td>80.765124</td>\n",
       "      <td>79.799502</td>\n",
       "    </tr>\n",
       "    <tr>\n",
       "      <th>2020-06-04</th>\n",
       "      <td>aapl</td>\n",
       "      <td>80.316987</td>\n",
       "      <td>79.804466</td>\n",
       "      <td>80.621523</td>\n",
       "      <td>79.423170</td>\n",
       "    </tr>\n",
       "    <tr>\n",
       "      <th>2020-06-05</th>\n",
       "      <td>aapl</td>\n",
       "      <td>80.059496</td>\n",
       "      <td>82.077385</td>\n",
       "      <td>82.139283</td>\n",
       "      <td>80.029786</td>\n",
       "    </tr>\n",
       "    <tr>\n",
       "      <th>2020-06-08</th>\n",
       "      <td>aapl</td>\n",
       "      <td>81.767878</td>\n",
       "      <td>82.562653</td>\n",
       "      <td>82.597319</td>\n",
       "      <td>81.042430</td>\n",
       "    </tr>\n",
       "    <tr>\n",
       "      <th>...</th>\n",
       "      <td>...</td>\n",
       "      <td>...</td>\n",
       "      <td>...</td>\n",
       "      <td>...</td>\n",
       "      <td>...</td>\n",
       "    </tr>\n",
       "    <tr>\n",
       "      <th>2021-05-28</th>\n",
       "      <td>aapl</td>\n",
       "      <td>125.199422</td>\n",
       "      <td>124.242256</td>\n",
       "      <td>125.428747</td>\n",
       "      <td>124.182436</td>\n",
       "    </tr>\n",
       "    <tr>\n",
       "      <th>2021-06-01</th>\n",
       "      <td>aapl</td>\n",
       "      <td>124.710865</td>\n",
       "      <td>123.913223</td>\n",
       "      <td>124.980065</td>\n",
       "      <td>123.574230</td>\n",
       "    </tr>\n",
       "    <tr>\n",
       "      <th>2021-06-02</th>\n",
       "      <td>aapl</td>\n",
       "      <td>123.913221</td>\n",
       "      <td>124.690918</td>\n",
       "      <td>124.870387</td>\n",
       "      <td>123.683904</td>\n",
       "    </tr>\n",
       "    <tr>\n",
       "      <th>2021-06-03</th>\n",
       "      <td>aapl</td>\n",
       "      <td>124.312050</td>\n",
       "      <td>123.175415</td>\n",
       "      <td>124.481547</td>\n",
       "      <td>122.766621</td>\n",
       "    </tr>\n",
       "    <tr>\n",
       "      <th>2021-06-04</th>\n",
       "      <td>aapl</td>\n",
       "      <td>123.703850</td>\n",
       "      <td>125.518478</td>\n",
       "      <td>125.787686</td>\n",
       "      <td>123.484498</td>\n",
       "    </tr>\n",
       "  </tbody>\n",
       "</table>\n",
       "<p>255 rows × 5 columns</p>\n",
       "</div>"
      ],
      "text/plain": [
       "           symbol        Open       Close        High         Low\n",
       "Date                                                             \n",
       "2020-06-02   aapl   79.415740   80.057007   80.081768   78.965117\n",
       "2020-06-03   aapl   80.383828   80.497719   80.765124   79.799502\n",
       "2020-06-04   aapl   80.316987   79.804466   80.621523   79.423170\n",
       "2020-06-05   aapl   80.059496   82.077385   82.139283   80.029786\n",
       "2020-06-08   aapl   81.767878   82.562653   82.597319   81.042430\n",
       "...           ...         ...         ...         ...         ...\n",
       "2021-05-28   aapl  125.199422  124.242256  125.428747  124.182436\n",
       "2021-06-01   aapl  124.710865  123.913223  124.980065  123.574230\n",
       "2021-06-02   aapl  123.913221  124.690918  124.870387  123.683904\n",
       "2021-06-03   aapl  124.312050  123.175415  124.481547  122.766621\n",
       "2021-06-04   aapl  123.703850  125.518478  125.787686  123.484498\n",
       "\n",
       "[255 rows x 5 columns]"
      ]
     },
     "execution_count": 32,
     "metadata": {},
     "output_type": "execute_result"
    }
   ],
   "source": [
    "newdf=aapl_historical[['symbol',\"Open\", 'Close', \"High\",'Low']]\n",
    "newdf"
   ]
  },
  {
   "cell_type": "code",
   "execution_count": 33,
   "metadata": {},
   "outputs": [],
   "source": [
    "newdf.to_csv(\"tmp.csv\", sep=',')"
   ]
  },
  {
   "cell_type": "code",
   "execution_count": 34,
   "metadata": {
    "scrolled": true
   },
   "outputs": [
    {
     "name": "stdout",
     "output_type": "stream",
     "text": [
      "           symbol        Open       Close        High         Low\n",
      "Date                                                             \n",
      "2020-06-02   aapl   79.415740   80.057007   80.081768   78.965117\n",
      "2020-06-03   aapl   80.383828   80.497719   80.765124   79.799502\n",
      "2020-06-04   aapl   80.316987   79.804466   80.621523   79.423170\n",
      "2020-06-05   aapl   80.059496   82.077385   82.139283   80.029786\n",
      "2020-06-08   aapl   81.767878   82.562653   82.597319   81.042430\n",
      "...           ...         ...         ...         ...         ...\n",
      "2021-05-28   aapl  125.199422  124.242256  125.428747  124.182436\n",
      "2021-06-01   aapl  124.710865  123.913223  124.980065  123.574230\n",
      "2021-06-02   aapl  123.913221  124.690918  124.870387  123.683904\n",
      "2021-06-03   aapl  124.312050  123.175415  124.481547  122.766621\n",
      "2021-06-04   aapl  123.703850  125.518478  125.787686  123.484498\n",
      "\n",
      "[255 rows x 5 columns]\n"
     ]
    }
   ],
   "source": [
    "print(newdf)"
   ]
  },
  {
   "cell_type": "code",
   "execution_count": 1,
   "metadata": {},
   "outputs": [
    {
     "name": "stdout",
     "output_type": "stream",
     "text": [
      "[{'open': 158.74, 'high': 164.2, 'low': 157.8, 'close': 163.76, 'volume': 136474900.0, 'adj_high': None, 'adj_low': None, 'adj_close': 163.76, 'adj_open': None, 'adj_volume': None, 'split_factor': 1.0, 'dividend': 0.0, 'symbol': 'AAPL', 'exchange': 'XNAS', 'date': '2021-12-02T00:00:00+0000'}, {'open': 167.48, 'high': 170.295, 'low': 164.53, 'close': 164.77, 'volume': 145135682.0, 'adj_high': None, 'adj_low': None, 'adj_close': 164.77, 'adj_open': None, 'adj_volume': None, 'split_factor': 1.0, 'dividend': 0.0, 'symbol': 'AAPL', 'exchange': 'XNAS', 'date': '2021-12-01T00:00:00+0000'}, {'open': 159.99, 'high': 165.52, 'low': 159.92, 'close': 165.3, 'volume': 173758500.0, 'adj_high': None, 'adj_low': None, 'adj_close': 165.3, 'adj_open': None, 'adj_volume': None, 'split_factor': 1.0, 'dividend': 0.0, 'symbol': 'AAPL', 'exchange': 'XNAS', 'date': '2021-11-30T00:00:00+0000'}, {'open': 159.37, 'high': 161.19, 'low': 158.7901, 'close': 160.24, 'volume': 88748217.0, 'adj_high': None, 'adj_low': None, 'adj_close': 160.24, 'adj_open': None, 'adj_volume': None, 'split_factor': 1.0, 'dividend': 0.0, 'symbol': 'AAPL', 'exchange': 'XNAS', 'date': '2021-11-29T00:00:00+0000'}, {'open': 159.57, 'high': 160.45, 'low': 156.36, 'close': 156.81, 'volume': 76959800.0, 'adj_high': None, 'adj_low': None, 'adj_close': 156.81, 'adj_open': None, 'adj_volume': None, 'split_factor': 1.0, 'dividend': 0.0, 'symbol': 'AAPL', 'exchange': 'XNAS', 'date': '2021-11-26T00:00:00+0000'}, {'open': 160.75, 'high': 162.14, 'low': 159.64, 'close': 161.94, 'volume': 69342151.0, 'adj_high': None, 'adj_low': None, 'adj_close': 161.94, 'adj_open': None, 'adj_volume': None, 'split_factor': 1.0, 'dividend': 0.0, 'symbol': 'AAPL', 'exchange': 'XNAS', 'date': '2021-11-24T00:00:00+0000'}, {'open': 161.12, 'high': 161.8, 'low': 159.07, 'close': 161.41, 'volume': 96041899.0, 'adj_high': None, 'adj_low': None, 'adj_close': 161.41, 'adj_open': None, 'adj_volume': None, 'split_factor': 1.0, 'dividend': 0.0, 'symbol': 'AAPL', 'exchange': 'XNAS', 'date': '2021-11-23T00:00:00+0000'}]\n"
     ]
    }
   ],
   "source": [
    "import requests\n",
    "api_result = requests.get('http://api.marketstack.com/v1/eod?access_key=2ab6c46a6a6dd82ccc8d6e33b362c0ea&symbols=AAPL& date_from=2021-11-23&date_to=2021-12-03')\n",
    "\n",
    "api_response = api_result.json()\n",
    "\n",
    "print(api_response['data'])"
   ]
  },
  {
   "cell_type": "code",
   "execution_count": 2,
   "metadata": {
    "scrolled": true
   },
   "outputs": [
    {
     "data": {
      "text/plain": [
       "{'open': 158.74,\n",
       " 'high': 164.2,\n",
       " 'low': 157.8,\n",
       " 'close': 163.76,\n",
       " 'volume': 136474900.0,\n",
       " 'adj_high': None,\n",
       " 'adj_low': None,\n",
       " 'adj_close': 163.76,\n",
       " 'adj_open': None,\n",
       " 'adj_volume': None,\n",
       " 'split_factor': 1.0,\n",
       " 'dividend': 0.0,\n",
       " 'symbol': 'AAPL',\n",
       " 'exchange': 'XNAS',\n",
       " 'date': '2021-12-02T00:00:00+0000'}"
      ]
     },
     "execution_count": 2,
     "metadata": {},
     "output_type": "execute_result"
    }
   ],
   "source": [
    "api_response['data'][0]"
   ]
  },
  {
   "cell_type": "code",
   "execution_count": 3,
   "metadata": {
    "scrolled": true
   },
   "outputs": [
    {
     "data": {
      "text/plain": [
       "{'open': 167.48,\n",
       " 'high': 170.295,\n",
       " 'low': 164.53,\n",
       " 'close': 164.77,\n",
       " 'volume': 145135682.0,\n",
       " 'adj_high': None,\n",
       " 'adj_low': None,\n",
       " 'adj_close': 164.77,\n",
       " 'adj_open': None,\n",
       " 'adj_volume': None,\n",
       " 'split_factor': 1.0,\n",
       " 'dividend': 0.0,\n",
       " 'symbol': 'AAPL',\n",
       " 'exchange': 'XNAS',\n",
       " 'date': '2021-12-01T00:00:00+0000'}"
      ]
     },
     "execution_count": 3,
     "metadata": {},
     "output_type": "execute_result"
    }
   ],
   "source": [
    "api_response['data'][1]"
   ]
  },
  {
   "cell_type": "code",
   "execution_count": 40,
   "metadata": {},
   "outputs": [],
   "source": [
    "import pandas as pd\n",
    "df = pd.DataFrame(columns=['date','symbol',\"open\", 'close', \"high\",'low'])"
   ]
  },
  {
   "cell_type": "code",
   "execution_count": 41,
   "metadata": {
    "scrolled": true
   },
   "outputs": [],
   "source": [
    "for i in range(len(api_response['data'])):\n",
    "    df.loc[i]=[api_response['data'][i]['date'][:10],\n",
    "               api_response['data'][i]['symbol'].lower(),\n",
    "               api_response['data'][i]['open'],\n",
    "               api_response['data'][i]['close'],\n",
    "               api_response['data'][i]['high'],\n",
    "               api_response['data'][i]['low']\n",
    "              ]\n",
    "#     print(api_response['data'][i])\n",
    "df=df.set_index('date')"
   ]
  },
  {
   "cell_type": "code",
   "execution_count": 31,
   "metadata": {},
   "outputs": [
    {
     "data": {
      "text/plain": [
       "'2021-11-23T00:00:00+0000'"
      ]
     },
     "execution_count": 31,
     "metadata": {},
     "output_type": "execute_result"
    }
   ],
   "source": [
    "api_response['data'][i]['date']"
   ]
  },
  {
   "cell_type": "code",
   "execution_count": 24,
   "metadata": {},
   "outputs": [
    {
     "data": {
      "text/plain": [
       "'aapl'"
      ]
     },
     "execution_count": 24,
     "metadata": {},
     "output_type": "execute_result"
    }
   ],
   "source": [
    "api_response['data'][i]['symbol'].lower()"
   ]
  },
  {
   "cell_type": "code",
   "execution_count": 43,
   "metadata": {},
   "outputs": [],
   "source": [
    "df.to_csv(\"tmp2.csv\", sep=',')"
   ]
  },
  {
   "cell_type": "code",
   "execution_count": 42,
   "metadata": {},
   "outputs": [
    {
     "data": {
      "text/html": [
       "<div>\n",
       "<style scoped>\n",
       "    .dataframe tbody tr th:only-of-type {\n",
       "        vertical-align: middle;\n",
       "    }\n",
       "\n",
       "    .dataframe tbody tr th {\n",
       "        vertical-align: top;\n",
       "    }\n",
       "\n",
       "    .dataframe thead th {\n",
       "        text-align: right;\n",
       "    }\n",
       "</style>\n",
       "<table border=\"1\" class=\"dataframe\">\n",
       "  <thead>\n",
       "    <tr style=\"text-align: right;\">\n",
       "      <th></th>\n",
       "      <th>symbol</th>\n",
       "      <th>open</th>\n",
       "      <th>close</th>\n",
       "      <th>high</th>\n",
       "      <th>low</th>\n",
       "    </tr>\n",
       "    <tr>\n",
       "      <th>date</th>\n",
       "      <th></th>\n",
       "      <th></th>\n",
       "      <th></th>\n",
       "      <th></th>\n",
       "      <th></th>\n",
       "    </tr>\n",
       "  </thead>\n",
       "  <tbody>\n",
       "    <tr>\n",
       "      <th>2021-12-02</th>\n",
       "      <td>aapl</td>\n",
       "      <td>158.74</td>\n",
       "      <td>163.76</td>\n",
       "      <td>164.200</td>\n",
       "      <td>157.8000</td>\n",
       "    </tr>\n",
       "    <tr>\n",
       "      <th>2021-12-01</th>\n",
       "      <td>aapl</td>\n",
       "      <td>167.48</td>\n",
       "      <td>164.77</td>\n",
       "      <td>170.295</td>\n",
       "      <td>164.5300</td>\n",
       "    </tr>\n",
       "    <tr>\n",
       "      <th>2021-11-30</th>\n",
       "      <td>aapl</td>\n",
       "      <td>159.99</td>\n",
       "      <td>165.30</td>\n",
       "      <td>165.520</td>\n",
       "      <td>159.9200</td>\n",
       "    </tr>\n",
       "    <tr>\n",
       "      <th>2021-11-29</th>\n",
       "      <td>aapl</td>\n",
       "      <td>159.37</td>\n",
       "      <td>160.24</td>\n",
       "      <td>161.190</td>\n",
       "      <td>158.7901</td>\n",
       "    </tr>\n",
       "    <tr>\n",
       "      <th>2021-11-26</th>\n",
       "      <td>aapl</td>\n",
       "      <td>159.57</td>\n",
       "      <td>156.81</td>\n",
       "      <td>160.450</td>\n",
       "      <td>156.3600</td>\n",
       "    </tr>\n",
       "    <tr>\n",
       "      <th>2021-11-24</th>\n",
       "      <td>aapl</td>\n",
       "      <td>160.75</td>\n",
       "      <td>161.94</td>\n",
       "      <td>162.140</td>\n",
       "      <td>159.6400</td>\n",
       "    </tr>\n",
       "    <tr>\n",
       "      <th>2021-11-23</th>\n",
       "      <td>aapl</td>\n",
       "      <td>161.12</td>\n",
       "      <td>161.41</td>\n",
       "      <td>161.800</td>\n",
       "      <td>159.0700</td>\n",
       "    </tr>\n",
       "  </tbody>\n",
       "</table>\n",
       "</div>"
      ],
      "text/plain": [
       "           symbol    open   close     high       low\n",
       "date                                                \n",
       "2021-12-02   aapl  158.74  163.76  164.200  157.8000\n",
       "2021-12-01   aapl  167.48  164.77  170.295  164.5300\n",
       "2021-11-30   aapl  159.99  165.30  165.520  159.9200\n",
       "2021-11-29   aapl  159.37  160.24  161.190  158.7901\n",
       "2021-11-26   aapl  159.57  156.81  160.450  156.3600\n",
       "2021-11-24   aapl  160.75  161.94  162.140  159.6400\n",
       "2021-11-23   aapl  161.12  161.41  161.800  159.0700"
      ]
     },
     "execution_count": 42,
     "metadata": {},
     "output_type": "execute_result"
    }
   ],
   "source": [
    "df"
   ]
  },
  {
   "cell_type": "code",
   "execution_count": null,
   "metadata": {},
   "outputs": [],
   "source": []
  }
 ],
 "metadata": {
  "kernelspec": {
   "display_name": "Python 3",
   "language": "python",
   "name": "python3"
  },
  "language_info": {
   "codemirror_mode": {
    "name": "ipython",
    "version": 3
   },
   "file_extension": ".py",
   "mimetype": "text/x-python",
   "name": "python",
   "nbconvert_exporter": "python",
   "pygments_lexer": "ipython3",
   "version": "3.7.3"
  }
 },
 "nbformat": 4,
 "nbformat_minor": 4
}
